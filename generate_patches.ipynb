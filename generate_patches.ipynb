{
 "cells": [
  {
   "cell_type": "code",
   "execution_count": 1,
   "id": "f96b0735",
   "metadata": {},
   "outputs": [],
   "source": [
    "import cv2\n",
    "import os\n",
    "import numpy as np\n",
    "import matplotlib.pyplot as plt\n",
    "import shutil"
   ]
  },
  {
   "cell_type": "code",
   "execution_count": 2,
   "id": "d4b80290",
   "metadata": {},
   "outputs": [
    {
     "data": {
      "text/plain": [
       "(256, 256, 3)"
      ]
     },
     "execution_count": 2,
     "metadata": {},
     "output_type": "execute_result"
    }
   ],
   "source": [
    "imgpath = r'C:\\Users\\Tasli\\Desktop\\Python_Folder_New\\CVPRIMAGES\\WSI\\Patched\\205811.tiff'\n",
    "frame1 = cv2.imread(imgpath)\n",
    "\n",
    "frame1.shape"
   ]
  },
  {
   "cell_type": "code",
   "execution_count": 3,
   "id": "100011f0",
   "metadata": {},
   "outputs": [],
   "source": [
    "hist, bins = np.histogram(frame1.ravel(), 256, [0, 256])"
   ]
  },
  {
   "cell_type": "code",
   "execution_count": 5,
   "id": "1d4fe219",
   "metadata": {},
   "outputs": [
    {
     "data": {
      "text/plain": [
       "<BarContainer object of 256 artists>"
      ]
     },
     "execution_count": 5,
     "metadata": {},
     "output_type": "execute_result"
    },
    {
     "data": {
      "image/png": "[encoded data removed]",
      "text/plain": [
       "<Figure size 432x288 with 1 Axes>"
      ]
     },
     "metadata": {
      "needs_background": "light"
     },
     "output_type": "display_data"
    }
   ],
   "source": [
    "plt.bar(bins[:-1],hist)"
   ]
  },
  {
   "cell_type": "code",
   "execution_count": 23,
   "id": "ddf570c9",
   "metadata": {},
   "outputs": [
    {
     "data": {
      "text/plain": [
       "330048"
      ]
     },
     "execution_count": 23,
     "metadata": {},
     "output_type": "execute_result"
    }
   ],
   "source": [
    "folder = r'C:\\Users\\Tasli\\Desktop\\Python_Folder_New\\CVPRIMAGES\\WSI\\Patched'\n",
    "white_folder = r'C:\\Users\\Tasli\\Desktop\\Python_Folder_New\\CVPRIMAGES\\WSI\\White_patches'\n",
    "all_imgs = os.listdir(folder)\n",
    "len(all_imgs)"
   ]
  },
  {
   "cell_type": "code",
   "execution_count": null,
   "id": "346c777c",
   "metadata": {},
   "outputs": [],
   "source": [
    "for img in all_imgs:\n",
    "    imgpath = os.path.join(folder,img)\n",
    "    frame1 = cv2.imread(imgpath)\n",
    "    hist, bins = np.histogram(frame1.ravel(), 256, [0, 256])\n",
    "    rate = (hist[255]/(256*256))*100\n",
    "    if rate > 90:\n",
    "        print('this patch is white!') #remove white patches\n",
    "        shutil.move(imgpath, os.path.join(white_folder,img))"
   ]
  },
  {
   "cell_type": "code",
   "execution_count": 27,
   "id": "c7d267cc",
   "metadata": {},
   "outputs": [
    {
     "name": "stdout",
     "output_type": "stream",
     "text": [
      "total white patches is 216130\n"
     ]
    }
   ],
   "source": [
    "print(\"total white patches is\",(330048-len(os.listdir(folder))))"
   ]
  },
  {
   "cell_type": "code",
   "execution_count": null,
   "id": "b23cf1a3",
   "metadata": {},
   "outputs": [],
   "source": [
    "## Second Attempt 254"
   ]
  },
  {
   "cell_type": "code",
   "execution_count": 6,
   "id": "aa4098f3",
   "metadata": {},
   "outputs": [],
   "source": []
  },
  {
   "cell_type": "code",
   "execution_count": 28,
   "id": "df27722f",
   "metadata": {},
   "outputs": [
    {
     "data": {
      "text/plain": [
       "<BarContainer object of 256 artists>"
      ]
     },
     "execution_count": 28,
     "metadata": {},
     "output_type": "execute_result"
    },
    {
     "data": {
      "image/png": "[encoded data removed]",
      "text/plain": [
       "<Figure size 432x288 with 1 Axes>"
      ]
     },
     "metadata": {
      "needs_background": "light"
     },
     "output_type": "display_data"
    }
   ],
   "source": [
    "imgpath = r'C:\\Users\\Tasli\\Desktop\\Python_Folder_New\\CVPRIMAGES\\WSI\\Patched\\344.tiff'\n",
    "frame1 = cv2.imread(imgpath)\n",
    "hist, bins = np.histogram(frame1.ravel(), 256, [0, 256])\n",
    "plt.bar(bins[:-1],hist)"
   ]
  },
  {
   "cell_type": "code",
   "execution_count": 30,
   "id": "6f4c6b92",
   "metadata": {},
   "outputs": [
    {
     "data": {
      "text/plain": [
       "190011"
      ]
     },
     "execution_count": 30,
     "metadata": {},
     "output_type": "execute_result"
    }
   ],
   "source": [
    "hist[254]"
   ]
  },
  {
   "cell_type": "code",
   "execution_count": 51,
   "id": "4d037073",
   "metadata": {},
   "outputs": [
    {
     "data": {
      "text/plain": [
       "113658"
      ]
     },
     "execution_count": 51,
     "metadata": {},
     "output_type": "execute_result"
    }
   ],
   "source": [
    "folder = r'C:\\Users\\Tasli\\Desktop\\Python_Folder_New\\CVPRIMAGES\\WSI\\Patched'\n",
    "white_folder = r'C:\\Users\\Tasli\\Desktop\\Python_Folder_New\\CVPRIMAGES\\WSI\\White_patches'\n",
    "all_imgs = os.listdir(folder)\n",
    "len(all_imgs)"
   ]
  },
  {
   "cell_type": "code",
   "execution_count": 52,
   "id": "fa14eaac",
   "metadata": {},
   "outputs": [
    {
     "name": "stderr",
     "output_type": "stream",
     "text": [
      "100%|██████████████████████████████████████████████████████████████████████████| 113658/113658 [29:16<00:00, 64.69it/s]\n"
     ]
    }
   ],
   "source": [
    "for i in tqdm(range(len(all_imgs))):\n",
    "    img = all_imgs[i]\n",
    "    imgpath = os.path.join(folder,img)\n",
    "    frame1 = cv2.imread(imgpath)\n",
    "    hist, bins = np.histogram(frame1.ravel(), 256, [0, 256])\n",
    "    rate = (hist[254]/(256*256))*100\n",
    "    if rate > 90:\n",
    "        #print('this patch is white!') #remove white patches\n",
    "        shutil.move(imgpath, os.path.join(white_folder,img))"
   ]
  },
  {
   "cell_type": "code",
   "execution_count": null,
   "id": "af324b4d",
   "metadata": {},
   "outputs": [],
   "source": [
    "## Third Attempt 254"
   ]
  },
  {
   "cell_type": "code",
   "execution_count": 60,
   "id": "03b59059",
   "metadata": {},
   "outputs": [
    {
     "data": {
      "text/plain": [
       "<BarContainer object of 256 artists>"
      ]
     },
     "execution_count": 60,
     "metadata": {},
     "output_type": "execute_result"
    },
    {
     "data": {
      "image/png": "[encoded data removed]",
      "text/plain": [
       "<Figure size 432x288 with 1 Axes>"
      ]
     },
     "metadata": {
      "needs_background": "light"
     },
     "output_type": "display_data"
    }
   ],
   "source": [
    "imgpath = r'C:\\Users\\Tasli\\Desktop\\Python_Folder_New\\CVPRIMAGES\\WSI\\Patched\\199038.tiff'\n",
    "frame1 = cv2.imread(imgpath)\n",
    "hist, bins = np.histogram(frame1.ravel(), 256, [0, 256])\n",
    "plt.bar(bins[:-1],hist)"
   ]
  },
  {
   "cell_type": "code",
   "execution_count": 61,
   "id": "ce640499",
   "metadata": {},
   "outputs": [
    {
     "data": {
      "text/plain": [
       "47106"
      ]
     },
     "execution_count": 61,
     "metadata": {},
     "output_type": "execute_result"
    }
   ],
   "source": [
    "hist[253]"
   ]
  },
  {
   "cell_type": "code",
   "execution_count": 65,
   "id": "74925f24",
   "metadata": {},
   "outputs": [
    {
     "data": {
      "text/plain": [
       "108080"
      ]
     },
     "execution_count": 65,
     "metadata": {},
     "output_type": "execute_result"
    }
   ],
   "source": [
    "folder = r'C:\\Users\\Tasli\\Desktop\\Python_Folder_New\\CVPRIMAGES\\WSI\\Patched'\n",
    "white_folder = r'C:\\Users\\Tasli\\Desktop\\Python_Folder_New\\CVPRIMAGES\\WSI\\White_patches'\n",
    "all_imgs = os.listdir(folder)\n",
    "len(all_imgs)"
   ]
  },
  {
   "cell_type": "code",
   "execution_count": 66,
   "id": "e5ae03a3",
   "metadata": {},
   "outputs": [
    {
     "name": "stderr",
     "output_type": "stream",
     "text": [
      "100%|█████████████████████████████████████████████████████████████████████████| 108080/108080 [12:49<00:00, 140.39it/s]\n"
     ]
    }
   ],
   "source": [
    "for i in tqdm(range(len(all_imgs))):\n",
    "    img = all_imgs[i]\n",
    "    imgpath = os.path.join(folder,img)\n",
    "    frame1 = cv2.imread(imgpath)\n",
    "    hist, bins = np.histogram(frame1.ravel(), 256, [0, 256])\n",
    "    \n",
    "    rate = (hist[253]/(256*256))*100\n",
    "    if rate > 90:\n",
    "        shutil.move(imgpath, os.path.join(white_folder,img))\n",
    "        continue\n",
    "    \n",
    "    rate = (hist[252]/(256*256))*100\n",
    "    if rate > 90:\n",
    "        shutil.move(imgpath, os.path.join(white_folder,img))\n",
    "        continue\n",
    "    \n",
    "    rate = (hist[251]/(256*256))*100\n",
    "    if rate > 90:\n",
    "        shutil.move(imgpath, os.path.join(white_folder,img))\n",
    "        continue\n",
    "    rate = (hist[250]/(256*256))*100\n",
    "    if rate > 90:\n",
    "        shutil.move(imgpath, os.path.join(white_folder,img))\n",
    "        continue"
   ]
  },
  {
   "cell_type": "code",
   "execution_count": null,
   "id": "3d8c356b",
   "metadata": {},
   "outputs": [],
   "source": []
  },
  {
   "cell_type": "code",
   "execution_count": null,
   "id": "e9ee1b3c",
   "metadata": {},
   "outputs": [],
   "source": []
  },
  {
   "cell_type": "code",
   "execution_count": null,
   "id": "2a33ca7b",
   "metadata": {},
   "outputs": [],
   "source": [
    "# Old code Below"
   ]
  },
  {
   "cell_type": "code",
   "execution_count": 10,
   "id": "19ccccba",
   "metadata": {},
   "outputs": [],
   "source": [
    "imgpath = r'C:\\Users\\Tasli\\Desktop\\Python_Folder_New\\CVPRIMAGES\\WSI\\BIG_PATCH\\Info\\5.tiff'\n",
    "frame1 = cv2.imread(imgpath)\n"
   ]
  },
  {
   "cell_type": "code",
   "execution_count": 11,
   "id": "02259b85",
   "metadata": {},
   "outputs": [
    {
     "data": {
      "text/plain": [
       "(32768, 32768, 3)"
      ]
     },
     "execution_count": 11,
     "metadata": {},
     "output_type": "execute_result"
    }
   ],
   "source": [
    "frame1.shape"
   ]
  },
  {
   "cell_type": "code",
   "execution_count": 1,
   "id": "a7fcd2f9",
   "metadata": {},
   "outputs": [],
   "source": [
    "import cv2\n",
    "import os\n",
    "import numpy as np\n",
    "from tqdm import tqdm\n",
    "\n",
    "def cropimg(patch,step, imgpath,save_path,img_nmm):\n",
    "    \"patch: the cropped patch size, default:128; step: cropping gap, default:128\"\n",
    "    frame1 = cv2.imread(imgpath)\n",
    "    W = frame1.shape[1]\n",
    "    H = frame1.shape[0]\n",
    "    for i in range(0, H - patch, step):\n",
    "        for j in range(0, W - patch, step):\n",
    "            img_nm = os.path.splitext(imgpath)[0]\n",
    "            \n",
    "            cropImg1 = frame1[j:j + patch, i:i + patch]\n",
    "            hist, bins = np.histogram(cropImg1.ravel(), 256, [0, 256])\n",
    "            rate = (hist[255]/(patch*patch))*100\n",
    "            if rate > 90:\n",
    "                #print('this patch is white!') #remove black patches\n",
    "                pass\n",
    "            else:\n",
    "                if not os.path.exists(save_path):\n",
    "                    os.makedirs(save_path)\n",
    "                cv2.imwrite(save_path + '/' + img_nmm + '_' + str(i) + '_' + str(j) + '.jpg', cropImg1)\n",
    "                print(save_path + '/' + img_nmm + '_' + str(i) + '_' + str(j) + '.jpg')\n"
   ]
  },
  {
   "cell_type": "code",
   "execution_count": null,
   "id": "813c92ad",
   "metadata": {},
   "outputs": [],
   "source": [
    "source_path = r\"C:\\Users\\Tasli\\Desktop\\Python_Folder_New\\CVPRIMAGES\\WSI\\BIG_PATCH\\Info\" \n",
    "save_path = r\"C:\\Users\\Tasli\\Desktop\\Python_Folder_New\\CVPRIMAGES\\WSI\\BIG_PATCH\\Patches\"  \n",
    "#save_path = r\"C:\\Users\\Tasli\\Desktop\\Python_Folder_New\\CVPRIMAGES\\WSI\\BIG_PATCH\\white_patches\"\n",
    "file_names = os.listdir(source_path)\n",
    "\n",
    "for i in tqdm(range(len(file_names))):\n",
    "    full_path = os.path.join(source_path,file_names[i])\n",
    "    print(full_path)\n",
    "    x = cropimg(256, 256, full_path, save_path, file_names[i])\n",
    "#     print(\"crop\", file_names[i])\n",
    "#     print(\"crop_nums\", i)\n",
    "\n",
    "print(\"cropping over!\")"
   ]
  },
  {
   "cell_type": "code",
   "execution_count": 9,
   "id": "49f7749d",
   "metadata": {},
   "outputs": [],
   "source": [
    "#KEeping track of all white patches to move them if need\n",
    "items = os.listdir(r\"C:\\Users\\Tasli\\Desktop\\Python_Folder_New\\CVPRIMAGES\\WSI\\BIG_PATCH\\white_patches\")\n",
    "fn= r\"C:\\Users\\Tasli\\Desktop\\Python_Folder_New\\CVPRIMAGES\\WSI\\BIG_PATCH\\list_white_patches.txt\"\n",
    "file = open(fn,'w')\n",
    "for item in items:\n",
    "    file.write(item+\"\\n\")\n",
    "file.close()"
   ]
  },
  {
   "cell_type": "markdown",
   "id": "bd148d05",
   "metadata": {},
   "source": [
    "## Re-attach"
   ]
  },
  {
   "cell_type": "code",
   "execution_count": 2,
   "id": "65fef4f5",
   "metadata": {},
   "outputs": [],
   "source": [
    "from glob import glob"
   ]
  },
  {
   "cell_type": "code",
   "execution_count": 3,
   "id": "7d396997",
   "metadata": {},
   "outputs": [],
   "source": [
    "root = r\"C:\\Users\\Tasli\\Desktop\\Python_Folder_New\\CVPRIMAGES\\WSI\\BIG_PATCH\\Patches\"\n",
    "files = sorted(glob(os.path.join(root, \"*5.*\")))"
   ]
  },
  {
   "cell_type": "code",
   "execution_count": 4,
   "id": "25466181",
   "metadata": {},
   "outputs": [
    {
     "name": "stdout",
     "output_type": "stream",
     "text": [
      "(32768, 32768, 3)\n"
     ]
    }
   ],
   "source": [
    "imgpath = r'C:\\Users\\Tasli\\Desktop\\Python_Folder_New\\CVPRIMAGES\\WSI\\BIG_PATCH\\Info\\5.tiff'\n",
    "frame1 = cv2.imread(imgpath)\n",
    "original_shape = frame1.shape\n",
    "print(original_shape)"
   ]
  },
  {
   "cell_type": "code",
   "execution_count": null,
   "id": "b83e630b",
   "metadata": {},
   "outputs": [],
   "source": [
    "# last file 5.tiff_32256_32256"
   ]
  },
  {
   "cell_type": "code",
   "execution_count": 5,
   "id": "20fca326",
   "metadata": {},
   "outputs": [
    {
     "name": "stdout",
     "output_type": "stream",
     "text": [
      "(32512, 32512, 3)\n"
     ]
    }
   ],
   "source": [
    "frame1 = np.zeros((32512,32512,3))\n",
    "print(frame1.shape)"
   ]
  },
  {
   "cell_type": "code",
   "execution_count": 9,
   "id": "62535e1c",
   "metadata": {},
   "outputs": [
    {
     "name": "stdout",
     "output_type": "stream",
     "text": [
      "(127, 127, 256, 256, 3)\n"
     ]
    }
   ],
   "source": [
    "from patchify import patchify, unpatchify\n",
    "patches = patchify(frame1,(256,256,3),step=256) \n",
    "patches = np.squeeze(patches)\n",
    "print(patches.shape)"
   ]
  },
  {
   "cell_type": "code",
   "execution_count": null,
   "id": "515fc105",
   "metadata": {},
   "outputs": [],
   "source": [
    "for n in range(len(files)):\n",
    "    for i in range(0,32257,256):\n",
    "        for j in range(0,32257,256):\n",
    "            print(str(i),str(j))\n",
    "            #path = os.path.join(root,'5.tiff_{}_{}'.format(str(i),str(j)))\n",
    "            print(path)\n"
   ]
  },
  {
   "cell_type": "code",
   "execution_count": null,
   "id": "2faa5aca",
   "metadata": {},
   "outputs": [],
   "source": [
    "unpatch = r\"C:\\Users\\Tasli\\Desktop\\Python_Folder_New\\CVPRIMAGES\\WSI\\BIG_PATCH\\UNPATCH\"\n",
    "\n",
    "end = int(32256/256) +1\n",
    "print(end)\n",
    "\n",
    "\n",
    "for i in range(0,end,1):\n",
    "    for j in range(0,end,1):\n",
    "        adjusted_i = i*256\n",
    "        adjusted_j = j*256\n",
    "        path = os.path.join(root,'5.tiff_{}_{}.jpg'.format(str(adjusted_i),str(adjusted_j)))\n",
    "        #print(path)\n",
    "        single_patch_img = cv2.imread(path)\n",
    "        if single_patch_img is None:\n",
    "            raise Exception(\"Could not read the image\") \n",
    "        #frame1[adjusted_i:(adjusted_i+256),adjusted_j:(adjusted_j+256)] = single_patch_img.copy()\n",
    "        frame1[adjusted_j:(adjusted_j+256),adjusted_i:(adjusted_i+256)] = single_patch_img.copy()\n",
    "        \n",
    "\n",
    "print(frame1.shape)\n",
    "name = os.path.join(unpatch, '5.tiff.jpg')\n",
    "cv2.imwrite(name, frame1)"
   ]
  },
  {
   "cell_type": "code",
   "execution_count": 13,
   "id": "bbc8024a",
   "metadata": {},
   "outputs": [
    {
     "data": {
      "text/plain": [
       "True"
      ]
     },
     "execution_count": 13,
     "metadata": {},
     "output_type": "execute_result"
    }
   ],
   "source": [
    "name = os.path.join(unpatch, '5.tiff.jpg')\n",
    "cv2.imwrite(name, frame1)"
   ]
  },
  {
   "cell_type": "markdown",
   "id": "9ebb61d2",
   "metadata": {},
   "source": [
    "# Re-paint on top "
   ]
  },
  {
   "cell_type": "code",
   "execution_count": 3,
   "id": "f2404683",
   "metadata": {},
   "outputs": [],
   "source": [
    "def find_all(a_str, sub):\n",
    "    start = 0\n",
    "    while True:\n",
    "        start = a_str.find(sub, start)\n",
    "        if start == -1: return\n",
    "        yield start\n",
    "        start += len(sub) # use start += 1 to find overlapping matches\n",
    "\n",
    "#list(find_all('spam spam spam spam', 'spam'))\n",
    "\n",
    "filename = './trial_console.txt'\n",
    "\n",
    "curr_list = []\n",
    "total_avg = []\n",
    "names = []\n",
    "curr_name = \"\"\n",
    "\n",
    "with open(filename) as file:\n",
    "    for line in file:\n",
    "        cur_line = line.rstrip()\n",
    "        if(cur_line[0].isdigit()):\n",
    "            curr_list.append(float(cur_line))\n",
    "          # print(cur_line)\n",
    "        else:\n",
    "            if('tiff' in cur_line):\n",
    "                start_stop =list(find_all(cur_line,\"'\"))\n",
    "                start = start_stop[0] +1\n",
    "                stop = start_stop[1]\n",
    "                curr_name = cur_line[start:stop]\n",
    "            if(len(curr_list)>0):\n",
    "                total_avg.append(np.mean(curr_list))\n",
    "                names.append(curr_name)\n",
    "                curr_name = \"\"\n",
    "            curr_list = []\n",
    "          #print('clear',cur_line)"
   ]
  },
  {
   "cell_type": "code",
   "execution_count": 4,
   "id": "abb9422f",
   "metadata": {},
   "outputs": [
    {
     "name": "stdout",
     "output_type": "stream",
     "text": [
      "16218\n",
      "16218\n"
     ]
    }
   ],
   "source": [
    "print(len(total_avg))\n",
    "print(len(names))"
   ]
  },
  {
   "cell_type": "code",
   "execution_count": 8,
   "id": "1bca5662",
   "metadata": {},
   "outputs": [
    {
     "data": {
      "text/plain": [
       "'10.tiff_26624_0'"
      ]
     },
     "execution_count": 8,
     "metadata": {},
     "output_type": "execute_result"
    }
   ],
   "source": [
    "names[1]"
   ]
  },
  {
   "cell_type": "code",
   "execution_count": 17,
   "id": "078fd64d",
   "metadata": {},
   "outputs": [],
   "source": []
  },
  {
   "cell_type": "code",
   "execution_count": 24,
   "id": "d146904d",
   "metadata": {},
   "outputs": [],
   "source": [
    "glob_min = min(total_avg)\n",
    "glob_max = max(total_avg)\n",
    "\n",
    "def get_scale(loss_val):\n",
    "    if loss_val <5:\n",
    "        local_max = 5\n",
    "        scale = (loss_val - glob_min)/(local_max- glob_min)\n",
    "    elif loss_val <6:\n",
    "        local_max = 6\n",
    "        local_min = 5\n",
    "        scale = (loss_val - local_min)/(local_max- local_min)\n",
    "    else:\n",
    "        local_min = 6\n",
    "        scale = (loss_val - local_min)/(glob_max- local_min) \n",
    "    return scale"
   ]
  },
  {
   "cell_type": "code",
   "execution_count": 25,
   "id": "b8462362",
   "metadata": {},
   "outputs": [],
   "source": [
    " #  OpenCV uses BGR\n",
    "def get_color(loss_val):\n",
    "    image = np.zeros((256, 256, 3), np.uint8)\n",
    "    scale_intensity = get_scale(loss_val)\n",
    "    if loss_val <5:\n",
    "        image[:] = (0, 255*scale_intensity, 0) # GREEN\n",
    "    elif loss_val <6:\n",
    "        image[:] = (0, 0, 255*scale_intensity) # RED\n",
    "    else:\n",
    "        image[:] = (255*scale_intensity, 0, 0) # BLUE\n",
    "    \n",
    "    return image"
   ]
  },
  {
   "cell_type": "code",
   "execution_count": 30,
   "id": "23671c8d",
   "metadata": {},
   "outputs": [
    {
     "name": "stdout",
     "output_type": "stream",
     "text": [
      "C:\\Users\\Tasli\\Desktop\\Python_Folder_New\\CVPRIMAGES\\WSI\\BIG_PATCH\\Info\\10.tiff\n",
      "True C:\\Users\\Tasli\\Desktop\\Python_Folder_New\\CVPRIMAGES\\WSI\\BIG_PATCH\\UNPATCH\\10.tiff.jpg\n",
      "C:\\Users\\Tasli\\Desktop\\Python_Folder_New\\CVPRIMAGES\\WSI\\BIG_PATCH\\Info\\11.tiff\n",
      "True C:\\Users\\Tasli\\Desktop\\Python_Folder_New\\CVPRIMAGES\\WSI\\BIG_PATCH\\UNPATCH\\11.tiff.jpg\n",
      "C:\\Users\\Tasli\\Desktop\\Python_Folder_New\\CVPRIMAGES\\WSI\\BIG_PATCH\\Info\\5.tiff\n",
      "True C:\\Users\\Tasli\\Desktop\\Python_Folder_New\\CVPRIMAGES\\WSI\\BIG_PATCH\\UNPATCH\\5.tiff.jpg\n",
      "C:\\Users\\Tasli\\Desktop\\Python_Folder_New\\CVPRIMAGES\\WSI\\BIG_PATCH\\Info\\7.tiff\n",
      "True C:\\Users\\Tasli\\Desktop\\Python_Folder_New\\CVPRIMAGES\\WSI\\BIG_PATCH\\UNPATCH\\7.tiff.jpg\n",
      "C:\\Users\\Tasli\\Desktop\\Python_Folder_New\\CVPRIMAGES\\WSI\\BIG_PATCH\\Info\\8.tiff\n",
      "True C:\\Users\\Tasli\\Desktop\\Python_Folder_New\\CVPRIMAGES\\WSI\\BIG_PATCH\\UNPATCH\\8.tiff.jpg\n",
      "C:\\Users\\Tasli\\Desktop\\Python_Folder_New\\CVPRIMAGES\\WSI\\BIG_PATCH\\Info\\9.tiff\n",
      "True C:\\Users\\Tasli\\Desktop\\Python_Folder_New\\CVPRIMAGES\\WSI\\BIG_PATCH\\UNPATCH\\9.tiff.jpg\n"
     ]
    }
   ],
   "source": [
    "source_path = r\"C:\\Users\\Tasli\\Desktop\\Python_Folder_New\\CVPRIMAGES\\WSI\\BIG_PATCH\\Info\" \n",
    "unpatch = r\"C:\\Users\\Tasli\\Desktop\\Python_Folder_New\\CVPRIMAGES\\WSI\\BIG_PATCH\\UNPATCH\"\n",
    "\n",
    "files = os.listdir(source_path)\n",
    "patch = 256\n",
    "step = 256\n",
    "\n",
    "\n",
    "for img_nmm in files:\n",
    "    imgpath = os.path.join(source_path, img_nmm)\n",
    "    print(imgpath)\n",
    "\n",
    "    frame1 = cv2.imread(imgpath)\n",
    "    W = frame1.shape[1]\n",
    "    H = frame1.shape[0]\n",
    "    for i in range(0, H - patch, step):\n",
    "        for j in range(0, W - patch, step):\n",
    "            img_nm = os.path.splitext(imgpath)[0]\n",
    "\n",
    "            cropImg1 = frame1[j:j + patch, i:i + patch]\n",
    "            #cv2.imwrite(save_path + '/' + img_nmm + '_' + str(i) + '_' + str(j) + '.jpg', cropImg1)\n",
    "            curr_name_search = img_nmm + '_' + str(i) + '_' + str(j)\n",
    "            if curr_name_search in names:\n",
    "                idx = names.index(curr_name_search)\n",
    "                avg = total_avg[idx]\n",
    "                fill_patch = get_color(avg)\n",
    "                frame1[j:j + patch, i:i + patch] = fill_patch\n",
    "                #print(curr_name_search)\n",
    "\n",
    "    name_save = os.path.join(unpatch, img_nmm +'.jpg')\n",
    "    saved = cv2.imwrite(name_save, frame1)\n",
    "    print(saved, name_save)\n"
   ]
  },
  {
   "cell_type": "code",
   "execution_count": null,
   "id": "901e339b",
   "metadata": {},
   "outputs": [],
   "source": []
  }
 ],
 "metadata": {
  "kernelspec": {
   "display_name": "Python 3",
   "language": "python",
   "name": "python3"
  },
  "language_info": {
   "codemirror_mode": {
    "name": "ipython",
    "version": 3
   },
   "file_extension": ".py",
   "mimetype": "text/x-python",
   "name": "python",
   "nbconvert_exporter": "python",
   "pygments_lexer": "ipython3",
   "version": "3.8.8"
  }
 },
 "nbformat": 4,
 "nbformat_minor": 5
}
